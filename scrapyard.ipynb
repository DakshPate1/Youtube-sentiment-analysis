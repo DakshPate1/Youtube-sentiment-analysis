{
 "cells": [
  {
   "cell_type": "code",
   "execution_count": null,
   "id": "ac46d876-389e-4e3a-a695-25eb9a2ed677",
   "metadata": {},
   "outputs": [],
   "source": [
    "import pandas as pd\n",
    "\n",
    "# Input file paths\n",
    "file1 = 'datasets/sentiment+labelled+sentences/sentiment labelled sentences/amazon_cells_labelled.txt'\n",
    "file2 = 'datasets/sentiment+labelled+sentences/sentiment labelled sentences/imdb_labelled.txt'\n",
    "file3 = 'datasets/sentiment+labelled+sentences/sentiment labelled sentences/yelp_labelled.txt'\n",
    "\n",
    "\n",
    "# Output CSV file path\n",
    "output_file = 'output.csv'\n",
    "\n",
    "# Read data from all text files into separate DataFrames\n",
    "# You might need to specify the appropriate delimiter in the 'sep' parameter\n",
    "df1 = pd.read_csv(file1, sep='\\t')  # Replace '\\t' with the appropriate delimiter\n",
    "df2 = pd.read_csv(file2, sep='\\t')\n",
    "df3 = pd.read_csv(file3, sep='\\t')\n",
    "\n",
    "# Concatenate DataFrames vertically\n",
    "all_data = pd.concat([df1, df2, df3], ignore_index=True)\n",
    "\n",
    "# Write the concatenated DataFrame to a CSV file\n",
    "all_data.to_csv(output_file, index=False)\n"
   ]
  },
  {
   "cell_type": "code",
   "execution_count": null,
   "id": "5756d415-db0a-434c-aa8c-45a29ccec7e8",
   "metadata": {},
   "outputs": [],
   "source": [
    "comments = pd.read_csv('output.csv')"
   ]
  },
  {
   "cell_type": "code",
   "execution_count": null,
   "id": "716e8e0f-a31a-4c9e-810c-bb9294b863d3",
   "metadata": {},
   "outputs": [],
   "source": [
    "comments.info()\n"
   ]
  },
  {
   "cell_type": "code",
   "execution_count": null,
   "id": "24e81bdb-a546-4bdf-974b-0b048dcfb460",
   "metadata": {},
   "outputs": [],
   "source": [
    "comments.drop(['Unnamed: 2', 'Unnamed: 3', \n",
    "                'Unnamed: 4'], axis=1, inplace=True)\n"
   ]
  },
  {
   "cell_type": "code",
   "execution_count": null,
   "id": "8b159e79-bb45-4aca-a832-c5562eba0bfa",
   "metadata": {},
   "outputs": [],
   "source": [
    "comments.head()"
   ]
  },
  {
   "cell_type": "code",
   "execution_count": null,
   "id": "c20284fe-4a70-43eb-acd7-5f64267539bb",
   "metadata": {},
   "outputs": [],
   "source": [
    "comments.to_csv('mergedset.csv')"
   ]
  },
  {
   "cell_type": "code",
   "execution_count": 5,
   "id": "a1079da7-fbcc-489f-83c8-3900fc423488",
   "metadata": {},
   "outputs": [],
   "source": [
    "import os\n",
    "\n",
    "# Directory containing the text files to concatenate\n",
    "directory_path = 'datasets/aclImdb_v1.tar/test/neg'\n",
    "\n",
    "# Function to read and concatenate text files\n",
    "def concatenate_text_files(directory_path):\n",
    "    concatenated_text = ''\n",
    "    for filename in os.listdir(directory_path):\n",
    "        if filename.endswith('.txt'):\n",
    "            file_path = os.path.join(directory_path, filename)\n",
    "            with open(file_path, 'r', encoding='utf-8') as file:\n",
    "                text = file.read()\n",
    "                concatenated_text += text.strip() + '\\n'  # Add a newline after each file's content\n",
    "\n",
    "    return concatenated_text\n",
    "\n",
    "# Step 1: Concatenate text files into a single text file\n",
    "all_text = concatenate_text_files(directory_path)\n",
    "\n",
    "# Step 2: Write the combined text to a new text file\n",
    "combined_file_path = 'combined_text.txt'\n",
    "with open(combined_file_path, 'w', encoding='utf-8') as file:\n",
    "    file.write(all_text)\n",
    "\n",
    "# Step 3: Convert the combined text file to CSV\n",
    "import pandas as pd\n",
    "\n",
    "# Read the combined text file line by line into a DataFrame\n",
    "lines = all_text.strip().split('\\n')\n",
    "df = pd.DataFrame({'text': lines})\n",
    "\n",
    "# Save the DataFrame to a CSV file\n",
    "output_csv_file = 'negativeonestest.csv'\n",
    "df.to_csv(output_csv_file, index=False)\n",
    "\n"
   ]
  },
  {
   "cell_type": "code",
   "execution_count": 8,
   "id": "00d94cce-699f-44af-a448-c91678fb8bab",
   "metadata": {},
   "outputs": [],
   "source": [
    "import pandas as pd\n",
    "positiveones = pd.read_csv('positiveones.csv')"
   ]
  },
  {
   "cell_type": "code",
   "execution_count": 9,
   "id": "de2e341e-c33d-43aa-93c2-751d19fd3904",
   "metadata": {},
   "outputs": [
    {
     "name": "stdout",
     "output_type": "stream",
     "text": [
      "<class 'pandas.core.frame.DataFrame'>\n",
      "RangeIndex: 12500 entries, 0 to 12499\n",
      "Data columns (total 2 columns):\n",
      " #   Column   Non-Null Count  Dtype \n",
      "---  ------   --------------  ----- \n",
      " 0   comment  12500 non-null  object\n",
      " 1   label    12500 non-null  int64 \n",
      "dtypes: int64(1), object(1)\n",
      "memory usage: 195.4+ KB\n"
     ]
    }
   ],
   "source": [
    "positiveones.info()"
   ]
  },
  {
   "cell_type": "code",
   "execution_count": null,
   "id": "7f5bf93e-7cd8-41bd-992e-c59e3a068249",
   "metadata": {},
   "outputs": [],
   "source": []
  },
  {
   "cell_type": "code",
   "execution_count": null,
   "id": "44ddf438-7b6b-4e15-a73f-deacb9b3f9f0",
   "metadata": {},
   "outputs": [],
   "source": []
  }
 ],
 "metadata": {
  "kernelspec": {
   "display_name": "Python 3 (ipykernel)",
   "language": "python",
   "name": "python3"
  },
  "language_info": {
   "codemirror_mode": {
    "name": "ipython",
    "version": 3
   },
   "file_extension": ".py",
   "mimetype": "text/x-python",
   "name": "python",
   "nbconvert_exporter": "python",
   "pygments_lexer": "ipython3",
   "version": "3.10.9"
  }
 },
 "nbformat": 4,
 "nbformat_minor": 5
}
